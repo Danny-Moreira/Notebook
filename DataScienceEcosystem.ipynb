{
 "cells": [
  {
   "cell_type": "markdown",
   "id": "3440f8af-2e94-4f41-bd1b-7997c0f493fe",
   "metadata": {},
   "source": [
    "# Data Science Tools and Ecosystem"
   ]
  },
  {
   "cell_type": "markdown",
   "id": "e9fd2230-1628-42bc-bc7b-00f1f4f3074f",
   "metadata": {},
   "source": [
    "In this notebook, Data Science Tools and Ecosystem are summarized."
   ]
  },
  {
   "cell_type": "markdown",
   "id": "dbdb968e-d986-4f48-87d9-7f23ad78818e",
   "metadata": {},
   "source": [
    "**Objectives**\n",
    "\n",
    "- Know the tools used by a data scientist.\n",
    "- Create a Jupyter Notebook and become familiar with its environment.\n",
    "- Understand the structure and management of a Jupyter Notebook.\n",
    "\n",
    "\n"
   ]
  },
  {
   "cell_type": "markdown",
   "id": "5d97e3ca-30cc-4774-bb98-2c2d343d8006",
   "metadata": {},
   "source": [
    "Some of the popular languages that Data Scientists use are:\n",
    "1. R\n",
    "2. Python\n",
    "3. SQL\n",
    "4. JAVA\n",
    "5. Scala\n",
    "6. Julia "
   ]
  },
  {
   "cell_type": "markdown",
   "id": "85d14e0b-09be-4327-81b3-7487dcaa2b86",
   "metadata": {},
   "source": [
    "Some of the commonly used libraries used by Data Scientists include:\n",
    "1. Pandas\n",
    "2. NumPy\n",
    "3. Seaborn\n",
    "4. Scikit-learn"
   ]
  },
  {
   "cell_type": "markdown",
   "id": "b1960beb-ad90-455a-944b-6db7d083b274",
   "metadata": {},
   "source": [
    "| Data Science Tools | \n",
    "|--------------------|\n",
    "| Python             |\n",
    "|--------------------|\n",
    "| Apache Hadoop      |\n",
    "|--------------------|\n",
    "|MongoDB             |"
   ]
  },
  {
   "cell_type": "markdown",
   "id": "34720e50-8020-4241-8b5b-a46d6a00a677",
   "metadata": {},
   "source": [
    "### Below are a few examples of evaluating arithmetic expressions in Python."
   ]
  },
  {
   "cell_type": "markdown",
   "id": "d46f5034-95a0-452a-8b09-5462985db82e",
   "metadata": {},
   "source": [
    "This is a simple arithmetic expression to multiply then add integers."
   ]
  },
  {
   "cell_type": "code",
   "execution_count": 2,
   "id": "bbd40e39-9946-474f-9037-f9e396612c94",
   "metadata": {
    "tags": []
   },
   "outputs": [
    {
     "data": {
      "text/plain": [
       "17"
      ]
     },
     "execution_count": 2,
     "metadata": {},
     "output_type": "execute_result"
    }
   ],
   "source": [
    "(3*4)+5"
   ]
  },
  {
   "cell_type": "markdown",
   "id": "44ecd640-3130-46ce-bcbc-73b4be37e9af",
   "metadata": {},
   "source": [
    " This will convert 200 minutes to hours by diving by 60."
   ]
  },
  {
   "cell_type": "code",
   "execution_count": 3,
   "id": "f3a801c7-54ff-47dc-86e7-7371c96377ff",
   "metadata": {
    "tags": []
   },
   "outputs": [
    {
     "data": {
      "text/plain": [
       "3.3333333333333335"
      ]
     },
     "execution_count": 3,
     "metadata": {},
     "output_type": "execute_result"
    }
   ],
   "source": [
    "200/60"
   ]
  },
  {
   "cell_type": "markdown",
   "id": "7b68229d-55c4-40af-9148-5c3b32ed8e06",
   "metadata": {},
   "source": [
    "## Author\n",
    "Daniel Belloso"
   ]
  },
  {
   "cell_type": "code",
   "execution_count": null,
   "id": "49816551-7913-43ff-b6d2-c8338cbd7a96",
   "metadata": {},
   "outputs": [],
   "source": []
  }
 ],
 "metadata": {
  "kernelspec": {
   "display_name": "Python",
   "language": "python",
   "name": "conda-env-python-py"
  },
  "language_info": {
   "codemirror_mode": {
    "name": "ipython",
    "version": 3
   },
   "file_extension": ".py",
   "mimetype": "text/x-python",
   "name": "python",
   "nbconvert_exporter": "python",
   "pygments_lexer": "ipython3",
   "version": "3.7.12"
  }
 },
 "nbformat": 4,
 "nbformat_minor": 5
}
